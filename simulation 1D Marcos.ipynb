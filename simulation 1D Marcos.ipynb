{
 "cells": [
  {
   "cell_type": "code",
   "execution_count": 1,
   "metadata": {},
   "outputs": [],
   "source": [
    "# %matplotlib notebook\n",
    "import numpy as np\n",
    "from scipy.integrate import solve_ivp\n",
    "import matplotlib.pyplot as plt\n",
    "from matplotlib.animation import FuncAnimation"
   ]
  },
  {
   "cell_type": "markdown",
   "metadata": {},
   "source": [
    "### Parameters"
   ]
  },
  {
   "cell_type": "code",
   "execution_count": 2,
   "metadata": {},
   "outputs": [],
   "source": [
    "# Parameters\n",
    "L = 100*10**3.0\n",
    "Total_time = 300000.0\n",
    "g = 9.81\n",
    "viscosity = 10**(2)\n",
    "Nx = 500 #real points aside from boundary\n",
    "# N_t = 200\n",
    "dx = L / (Nx)\n",
    "x = np.linspace(0, L, Nx)"
   ]
  },
  {
   "cell_type": "markdown",
   "metadata": {},
   "source": [
    "### Boundarie Conditions"
   ]
  },
  {
   "cell_type": "code",
   "execution_count": 51,
   "metadata": {},
   "outputs": [],
   "source": [
    "# #Boundary conditions\n",
    "# h_left = lambda t: 0#Can make boundary a function of t\n",
    "# h_right = lambda t: 0\n",
    "\n",
    "u_left = lambda t: 0\n",
    "u_left_prime = lambda t: 0\n",
    "u_right = lambda t: 0\n",
    "u_right_prime = lambda t: 0\n",
    "\n",
    "# Initial conditions\n",
    "h_initial = np.ones(Nx, dtype=np.float64)\n",
    "u_initial = np.zeros(Nx, dtype=np.float64)\n",
    "\n",
    "# Add a perturbation as for the moment initial conditions are regular\n",
    "h_initial[:Nx//2] += 0.5"
   ]
  },
  {
   "cell_type": "code",
   "execution_count": 52,
   "metadata": {},
   "outputs": [],
   "source": [
    "def central_difference(v, dx, i):\n",
    "    return (v[i+1] - v[i-1])/(2*dx)\n",
    "\n",
    "def second_order_central_difference(v, dx, i):\n",
    "    return (v[i+1] - 2 * v[i] + v[i-1])/(dx**2)\n",
    "\n",
    "def mod_foward_difference(v, dx, i):\n",
    "    return (-3*v[i] + 4 * v[i+1] - v[i+2])/(2 * dx)\n",
    "\n",
    "def mod_backward_difference(v, dx, i):\n",
    "    return (3*v[i] - 4 * v[i-1] + v[i-2])/(2 * dx)"
   ]
  },
  {
   "cell_type": "code",
   "execution_count": 53,
   "metadata": {},
   "outputs": [],
   "source": [
    "def pde_system_viscosity(t, y): #No boundary conditions for h\n",
    "    h = y[:Nx] # 0 Index used for point at boundary\n",
    "    u = y[Nx:]# 0 index used for first real point in grid after boundary\n",
    "\n",
    "    dh_dx = np.zeros(Nx, dtype=np.float64) #Also consider boundary for h\n",
    "    du_dx = np.zeros(Nx, dtype=np.float64)\n",
    "    dh_dt = np.zeros(Nx, dtype=np.float64)\n",
    "    du_dt = np.zeros(Nx, dtype=np.float64)\n",
    "\n",
    "    for i in range(1, Nx - 1):\n",
    "        dh_dx[i + 1] = central_difference(h, dx, i + 1)\n",
    "        du_dx[i] = central_difference(u, dx, i)\n",
    "\n",
    "    #Differential equations for points next to the boundary and boundary\n",
    "    dh_dt[0] = - h[0] * u_left_prime(t) - u[0] * mod_foward_difference(h, dx, 0) #Left Boundary\n",
    "    dh_dt[Nx + 1] = -h[Nx + 1] * u_right_prime(t)  - u_right(t) * mod_backward_difference(h, dx, Nx + 1) #Right Boundary\n",
    "\n",
    "    du_dt[0] = -1/(2*dx) * (g*(h[2] - h[0]) + u[0]*(u[1] - u_left(t))) + viscosity * 1/(dx**2) * (u_left(t) - 2 * u[0] + u[1]) #First point after boundary\n",
    "    dh_dt[1] = -1/(2*dx) * (h[0] * (u[1] - u_left(t))  - u[0] * (h[1] - h[0])) #First point in grid outside boundary\n",
    "\n",
    "    dh_dt[Nx] = -1/(2*dx) * (h[Nx] * (u_right(t) - u[Nx - 2])  - u[Nx - 1] * (h[Nx + 1] - h[Nx - 1])) #Last point before boundary\n",
    "    du_dt[Nx - 1] = -1/(2*dx) * (g*(h[Nx + 1] - h[Nx - 1]) + u[Nx - 1]*(u_right(t) - u[Nx - 2])) + (\n",
    "        viscosity *  1/(dx**2) * (u_right(t) - 2 * u[Nx - 1] + u[Nx -2])\n",
    "    ) #Last point before boundary\n",
    "\n",
    "    #Differential equations for other points\n",
    "    for i in range(1, Nx - 1):\n",
    "        dh_dt[i + 1] = - h[i + 1] * du_dx[i + 1] - u[i + 1] * dh_dx[i + 1]\n",
    "        du_dt[i] = - u[i] * du_dx[i] - g * dh_dx[i] + viscosity * second_order_central_difference(u, dx, i)\n",
    "    \n",
    "    return np.concatenate((dh_dt, du_dt))"
   ]
  },
  {
   "cell_type": "code",
   "execution_count": 54,
   "metadata": {},
   "outputs": [],
   "source": [
    "def pde_system_extrapolation(t, y): #No boundary conditions for h\n",
    "    h = y[:Nx] # 0 Index used for point at boundary\n",
    "    u = y[Nx:]# 0 index used for first real point in grid after boundary\n",
    "\n",
    "    dh_dx = np.zeros(Nx, dtype=np.float64) #Also consider boundary for h\n",
    "    du_dx = np.zeros(Nx, dtype=np.float64)\n",
    "    dh_dt = np.zeros(Nx, dtype=np.float64)\n",
    "    du_dt = np.zeros(Nx, dtype=np.float64)\n",
    "\n",
    "    for i in range(1, Nx - 1):\n",
    "        dh_dx[i + 1] = central_difference(h, dx, i + 1)\n",
    "        du_dx[i] = central_difference(u, dx, i)\n",
    "\n",
    "    du_dt[0] = -1/(2*dx) * (g*(h[2] - h[0]) + u[0]*(u[1] - u_left(t))) + viscosity * 1/(dx**2) * (u_left(t) - 2 * u[0] + u[1]) #First point after boundary\n",
    "    dh_dt[1] = -1/(2*dx) * (h[0] * (u[1] - u_left(t))  - u[0] * (h[1] - h[0])) #First point in grid outside boundary\n",
    "\n",
    "    dh_dt[Nx] = -1/(2*dx) * (h[Nx] * (u_right(t) - u[Nx - 2])  - u[Nx - 1] * (h[Nx + 1] - h[Nx - 1])) #Last point before boundary\n",
    "    du_dt[Nx - 1] = -1/(2*dx) * (g*(h[Nx + 1] - h[Nx - 1]) + u[Nx - 1]*(u_right(t) - u[Nx - 2])) + (\n",
    "        viscosity *  1/(dx**2) * (u_right(t) - 2 * u[Nx - 1] + u[Nx -2])) #Last point before boundary\n",
    "\n",
    "    #Differential equations for other points\n",
    "    for i in range(1, Nx - 1):\n",
    "        dh_dt[i + 1] = - h[i + 1] * du_dx[i + 1] - u[i + 1] * dh_dx[i + 1]\n",
    "        du_dt[i] = - u[i] * du_dx[i] - g * dh_dx[i] + viscosity * second_order_central_difference(u, dx, i)\n",
    "    dh_dt[0] = dh_dt[1]\n",
    "    dh_dt[Nx + 1] = dh_dt[Nx]\n",
    "    return np.concatenate((dh_dt, du_dt))"
   ]
  },
  {
   "cell_type": "code",
   "execution_count": 55,
   "metadata": {},
   "outputs": [],
   "source": [
    "def pde_system_modified(t, y): #No boundary conditions for h\n",
    "    h = y[:Nx] # 0 Index used for point at boundary\n",
    "    u = y[Nx:]# 0 index used for first real point in grid after boundary\n",
    "\n",
    "    dh_dx = np.zeros(Nx, dtype=np.float64) #Also consider boundary for h\n",
    "    du_dx = np.zeros(Nx, dtype=np.float64)\n",
    "    dh_dt = np.zeros(Nx, dtype=np.float64)\n",
    "    du_dt = np.zeros(Nx, dtype=np.float64)\n",
    "\n",
    "    for i in range(1, Nx - 1):\n",
    "        dh_dx[i + 1] = central_difference(h, dx, i + 1)\n",
    "        du_dx[i] = central_difference(u, dx, i)\n",
    "\n",
    "    #Differential equations for points next to the boundary and boundary\n",
    "    dh_dt[0] = - h[0] * u_left_prime(t) - u[0] * mod_foward_difference(h, dx, 0) #Left Boundary\n",
    "    dh_dt[Nx + 1] = -h[Nx + 1] * u_right_prime(t)  - u_right(t) * mod_backward_difference(h, dx, Nx + 1) #Right Boundary\n",
    "\n",
    "    du_dt[0] = -1/(2*dx) * (g*(h[2] - h[0]) + u[0]*(u[1] - u_left(t))) #First point after boundary\n",
    "    dh_dt[1] = -1/(2*dx) * (h[0] * (u[1] - u_left(t))  - u[0] * (h[1] - h[0])) #First point in grid outside boundary\n",
    "\n",
    "    dh_dt[Nx] = -1/(2*dx) * (h[Nx] * (u_right(t) - u[Nx - 2])  - u[Nx - 1] * (h[Nx + 1] - h[Nx - 1])) #Last point before boundary\n",
    "    du_dt[Nx - 1] = -1/(2*dx) * (g*(h[Nx + 1] - h[Nx - 1]) + u[Nx - 1]*(u_right(t) - u[Nx - 2])) #Last point before boundary\n",
    "\n",
    "    #Differential equations for other points\n",
    "    for i in range(1, Nx - 1):\n",
    "        dh_dt[i + 1] = - h[i + 1] * du_dx[i + 1] - u[i + 1] * dh_dx[i + 1]\n",
    "        du_dt[i] = - u[i] * du_dx[i] - g * dh_dx[i]\n",
    "    \n",
    "    return np.concatenate((dh_dt, du_dt))"
   ]
  },
  {
   "cell_type": "code",
   "execution_count": 56,
   "metadata": {},
   "outputs": [],
   "source": [
    "def pde_system_vector_op_bd(t, y): #No boundary conditions for h\n",
    "    h = y[:Nx] # 0 Index used for point at boundary\n",
    "    u = y[Nx:]# 0 index used for first real point in grid after boundary\n",
    "\n",
    "    dh_dx = np.zeros(Nx, dtype=np.float64) #Also consider boundary for h\n",
    "    du_dx = np.zeros(Nx, dtype=np.float64)\n",
    "    dh_dt = np.zeros(Nx, dtype=np.float64)\n",
    "    du_dt = np.zeros(Nx, dtype=np.float64)\n",
    "\n",
    "\n",
    "    dh_dx[1:-1] = (h[2:] - h[:-2]) / (2 * dx)\n",
    "    du_dx[1:-1] = (u[2:] - u[:-2]) / (2 * dx)\n",
    "    dh_dt[1:-1] = -h[1:-1] * du_dx[1:-1] - u[1:-1] * dh_dx[1:-1]\n",
    "    du_dt[1:-1] = -u[1:-1] * du_dx[1:-1] - g * dh_dx[1:-1] + viscosity *(u[2:] - 2 * u[1:-1] + u[:-2]) / dx**2\n",
    "\n",
    "    dh_dt[0] = - h[0] * u_left_prime(t) - u[0] * mod_foward_difference(h, dx, 0) #Left Boundary\n",
    "    dh_dt[Nx-1] = -h[Nx-1] * u_right_prime(t)  - u_right(t) * mod_backward_difference(h, dx, Nx-1) #Right Boundary\n",
    "\n",
    "    return np.concatenate((dh_dt, du_dt))"
   ]
  },
  {
   "cell_type": "code",
   "execution_count": 57,
   "metadata": {},
   "outputs": [],
   "source": [
    "def pde_system_vector_op(t, y): #No boundary conditions for h\n",
    "    h = y[:Nx] # 0 Index used for point at boundary\n",
    "    u = y[Nx:]# 0 index used for first real point in grid after boundary\n",
    "\n",
    "    dh_dx = np.zeros(Nx, dtype=np.float64) #Also consider boundary for h\n",
    "    du_dx = np.zeros(Nx, dtype=np.float64)\n",
    "    dh_dt = np.zeros(Nx, dtype=np.float64)\n",
    "    du_dt = np.zeros(Nx, dtype=np.float64)\n",
    "\n",
    "\n",
    "    dh_dx[1:-1] = (h[2:] - h[:-2]) / (2 * dx)\n",
    "    du_dx[1:-1] = (u[2:] - u[:-2]) / (2 * dx)\n",
    "    dh_dt[1:-1] = -h[1:-1] * du_dx[1:-1] - u[1:-1] * dh_dx[1:-1]\n",
    "    du_dt[1:-1] = -u[1:-1] * du_dx[1:-1] - g * dh_dx[1:-1] + viscosity *(u[2:] - 2 * u[1:-1] + u[:-2]) / dx**2\n",
    "    return np.concatenate((dh_dt, du_dt))"
   ]
  },
  {
   "cell_type": "markdown",
   "metadata": {},
   "source": [
    "### Solving the System"
   ]
  },
  {
   "cell_type": "code",
   "execution_count": 58,
   "metadata": {},
   "outputs": [],
   "source": [
    "def compute_time_step_1D(y):\n",
    "    safety_factor = 0.7\n",
    "    h = y[:Nx]\n",
    "    u = y[Nx:]\n",
    "    evals_1 = abs(u - np.sqrt(g*h))\n",
    "    evals_2 = abs(u + np.sqrt(g*h))\n",
    "    max_eval = max([max(evals_1), max(evals_2)])\n",
    "    time_step = safety_factor * dx /max_eval\n",
    "    return time_step"
   ]
  },
  {
   "cell_type": "code",
   "execution_count": 59,
   "metadata": {},
   "outputs": [],
   "source": [
    "def rungeKutta_1D(y0, tspan, ode):\n",
    "    t0, tend = tspan\n",
    "    t = [t0]\n",
    "    y = [y0]\n",
    "\n",
    "    # Determine the number of time steps\n",
    "    current_time = t0\n",
    "    h_data = []\n",
    "    step = 0\n",
    "\n",
    "    while t0<tend:\n",
    "        delta_t = compute_time_step_1D(y[-1])\n",
    "        k1 = delta_t * ode(t0, y[-1])\n",
    "        k2 = delta_t * ode(t0 + 0.5 * delta_t, y[-1] + 0.5 * k1)\n",
    "        k3 = delta_t * ode(t0 + 0.5 * delta_t, y[-1] + 0.5 * k2)\n",
    "        k4 = delta_t * ode(t0 + delta_t, y[-1] + k3)\n",
    "\n",
    "        y_next = y[-1] + (1.0 / 6.0) * (k1 + 2 * k2 + 2 * k3 + k4)\n",
    "\n",
    "        # Apply boundary conditions\n",
    "        h_next = y_next[: (Nx)]\n",
    "        u_next = y_next[Nx:]\n",
    "        # Boundarie Conditions for reflecting walls\n",
    "        u_next[0] = u_left(t0)\n",
    "        u_next[-1] = u_right(t0)\n",
    "        # h_next[0] = h_next[1]\n",
    "        # h_next[-1] = h_next[-2]\n",
    "\n",
    "        # Flatten y_next back into a vector\n",
    "        y_next = np.concatenate((h_next, u_next))\n",
    "\n",
    "        t0 += delta_t\n",
    "        t.append(t0)\n",
    "        y.append(y_next)\n",
    "        step += 1\n",
    "        \n",
    "        if step % 10 == 0:\n",
    "            h_data.append(h_next.copy())\n",
    "\n",
    "    return t, y, np.array(h_data)\n"
   ]
  },
  {
   "cell_type": "code",
   "execution_count": 60,
   "metadata": {},
   "outputs": [],
   "source": [
    "y0 = np.concatenate((h_initial, u_initial))\n",
    "t_values, solution_values, h_data = rungeKutta_1D(y0, (0.0, Total_time), pde_system_vector_op_bd)"
   ]
  },
  {
   "cell_type": "code",
   "execution_count": 61,
   "metadata": {},
   "outputs": [],
   "source": [
    "#Retrieve information from solution of IVP\n",
    "# h_results_no_boundary = sol1.y[:Nx]\n",
    "h_results = h_data\n",
    "u_results_no_boundary = solution_values[Nx:]\n",
    "t_points = t_values\n",
    "# Create a meshgrid for the 3D plot\n",
    "T, X = np.meshgrid(t_points,x)"
   ]
  },
  {
   "cell_type": "code",
   "execution_count": 62,
   "metadata": {},
   "outputs": [],
   "source": [
    "X1, T1 = np.meshgrid(x, t_points) #To consider correct orientation of axis"
   ]
  },
  {
   "cell_type": "code",
   "execution_count": 63,
   "metadata": {},
   "outputs": [],
   "source": [
    "# # h_left_boundary_evolution = np.array([[h_left(t) for t in t_points]]) #Evolution of boundary for results vector\n",
    "# # h_right_boundary_evolution = np.array([[h_right(t) for t in t_points]])\n",
    "# u_left_boundary_evolution = np.array([[u_left(t) for t in t_points]])\n",
    "# u_right_boundary_evolution = np.array([[u_right(t) for t in t_points]])\n",
    "\n",
    "# # h_results = np.concatenate((h_left_boundary_evolution, h_results_no_boundary, h_right_boundary_evolution)) #Add boundaries to results\n",
    "# u_results = np.concatenate((u_left_boundary_evolution, u_results_no_boundary, u_right_boundary_evolution))\n",
    "\n",
    "# h_results1 = h_results.transpose() #Used for orientation of axis\n",
    "# u_results1 = u_results.transpose()"
   ]
  },
  {
   "cell_type": "markdown",
   "metadata": {},
   "source": [
    "### Plotting"
   ]
  },
  {
   "cell_type": "code",
   "execution_count": 64,
   "metadata": {},
   "outputs": [],
   "source": [
    "# # Plot height (h) as a 3D surface\n",
    "# fig = plt.figure(figsize=(14, 8))\n",
    "# ax = fig.add_subplot(projection='3d')\n",
    "# ax.plot_surface(X1, T1, h_results, cmap='viridis', edgecolor='none')\n",
    "# ax.set_xlabel('x (Spatial Grid)')\n",
    "# ax.set_ylabel('t (Time)')\n",
    "# ax.set_zlabel('h (Height)')\n",
    "# ax.set_title('Height Profile Over Time')\n",
    "# plt.show()\n",
    "\n",
    "# # Plot velocity (u) as a 3D surface\n",
    "# fig = plt.figure(figsize=(14, 8))\n",
    "# ax = fig.add_subplot(projection='3d')\n",
    "# ax.plot_surface(X1, T1, u_results, cmap='plasma', edgecolor='none')\n",
    "# ax.set_xlabel('x (Spatial Grid)')\n",
    "# ax.set_ylabel('t (Time)')\n",
    "# ax.set_zlabel('u (Velocity)')\n",
    "# ax.set_title('Velocity Profile Over Time')\n",
    "# plt.show()"
   ]
  },
  {
   "cell_type": "code",
   "execution_count": 65,
   "metadata": {},
   "outputs": [
    {
     "data": {
      "image/png": "[encoded data removed]",
      "text/plain": [
       "<Figure size 640x480 with 1 Axes>"
      ]
     },
     "metadata": {},
     "output_type": "display_data"
    },
    {
     "name": "stderr",
     "output_type": "stream",
     "text": [
      "MovieWriter ffmpeg unavailable; using Pillow instead.\n"
     ]
    }
   ],
   "source": [
    "# Create the figure and axis\n",
    "time_steps = len(h_results)\n",
    "values = h_results\n",
    "fig, ax = plt.subplots()\n",
    "line, = ax.plot([], [], lw=2)\n",
    "\n",
    "# Set up the plot limits\n",
    "ax.set_xlim(x.min(), x.max())\n",
    "ax.set_ylim(-1, 2)\n",
    "ax.set_xlabel(\"Distance\")\n",
    "ax.set_ylabel(\"Values\")\n",
    "ax.set_title(\"Time Evolution of Values Over Grid\")\n",
    "\n",
    "# Initialization function\n",
    "def init():\n",
    "    line.set_data([], [])\n",
    "    return line,\n",
    "\n",
    "# Animation function to update the plot\n",
    "def update(frame):\n",
    "    y = values[frame, :]  # Values at the current time step\n",
    "    line.set_data(x, y)   # Update the line with grid points and corresponding values\n",
    "    return line,\n",
    "\n",
    "# Create the animation\n",
    "ani = FuncAnimation(fig, update, frames=time_steps, init_func=init, blit=True, interval=20)\n",
    "\n",
    "# Display the animation\n",
    "plt.show()\n",
    "ani.save('animation.gif', writer='ffmpeg', fps=30)"
   ]
  },
  {
   "cell_type": "code",
   "execution_count": null,
   "metadata": {},
   "outputs": [],
   "source": []
  },
  {
   "cell_type": "code",
   "execution_count": null,
   "metadata": {},
   "outputs": [],
   "source": []
  }
 ],
 "metadata": {
  "kernelspec": {
   "display_name": "Python 3",
   "language": "python",
   "name": "python3"
  },
  "language_info": {
   "codemirror_mode": {
    "name": "ipython",
    "version": 3
   },
   "file_extension": ".py",
   "mimetype": "text/x-python",
   "name": "python",
   "nbconvert_exporter": "python",
   "pygments_lexer": "ipython3",
   "version": "3.11.9"
  }
 },
 "nbformat": 4,
 "nbformat_minor": 2
}
